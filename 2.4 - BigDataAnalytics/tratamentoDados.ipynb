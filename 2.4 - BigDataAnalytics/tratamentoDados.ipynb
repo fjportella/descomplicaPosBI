{
 "cells": [
  {
   "cell_type": "code",
   "execution_count": 1,
   "metadata": {},
   "outputs": [
    {
     "name": "stdout",
     "output_type": "stream",
     "text": [
      "Requirement already satisfied: pandas in /home/codespace/.local/lib/python3.10/site-packages (2.1.3)\n",
      "Requirement already satisfied: numpy<2,>=1.22.4 in /home/codespace/.local/lib/python3.10/site-packages (from pandas) (1.26.2)\n",
      "Requirement already satisfied: python-dateutil>=2.8.2 in /home/codespace/.local/lib/python3.10/site-packages (from pandas) (2.8.2)\n",
      "Requirement already satisfied: pytz>=2020.1 in /home/codespace/.local/lib/python3.10/site-packages (from pandas) (2023.3.post1)\n",
      "Requirement already satisfied: tzdata>=2022.1 in /home/codespace/.local/lib/python3.10/site-packages (from pandas) (2023.3)\n",
      "Requirement already satisfied: six>=1.5 in /home/codespace/.local/lib/python3.10/site-packages (from python-dateutil>=2.8.2->pandas) (1.16.0)\n",
      "\n",
      "\u001b[1m[\u001b[0m\u001b[34;49mnotice\u001b[0m\u001b[1;39;49m]\u001b[0m\u001b[39;49m A new release of pip is available: \u001b[0m\u001b[31;49m23.3.1\u001b[0m\u001b[39;49m -> \u001b[0m\u001b[32;49m24.0\u001b[0m\n",
      "\u001b[1m[\u001b[0m\u001b[34;49mnotice\u001b[0m\u001b[1;39;49m]\u001b[0m\u001b[39;49m To update, run: \u001b[0m\u001b[32;49mpip install --upgrade pip\u001b[0m\n",
      "Note: you may need to restart the kernel to use updated packages.\n"
     ]
    }
   ],
   "source": [
    "pip install pandas"
   ]
  },
  {
   "cell_type": "code",
   "execution_count": 25,
   "metadata": {},
   "outputs": [],
   "source": [
    "import pandas as pd\n",
    "\n",
    "df = pd.read_csv(\"movies.csv\")\n",
    "\n",
    "#imprimindo tabela\n",
    "#df\n",
    "\n",
    "# ver as primeiras 5 linhas do DataFrame\n",
    "#print(df.head())\n",
    "\n",
    "# ver as últimas 5 linhas do DataFrame\n",
    "#print(df.tail())\n",
    "\n",
    "# ver o tamanho e o tipo de cada coluna do DataFrame\n",
    "#print(df.info())\n",
    "\n",
    "#ver as estatísticas descritivas de todas as colunas númericas do DataFrama\n",
    "#print(df.describe())\n",
    "\n",
    "#selecionar colunas específicas\n",
    "#df_colunas = df[['Film']]\n",
    "#print(df_colunas)\n",
    "\n",
    "#Ordenar por coluna\n",
    "df_ordenando = df.sort_values('Film', ascending=False)\n",
    "df\n",
    "\n",
    "#Salvando arquivo CSV\n",
    "df.to_csv(\"dados_tratados.csv\", index=False)"
   ]
  },
  {
   "cell_type": "code",
   "execution_count": 19,
   "metadata": {},
   "outputs": [
    {
     "name": "stdout",
     "output_type": "stream",
     "text": [
      "  Month   \"1958\"   \"1959\"   \"1960\"\n",
      "0   JAN      340      360      417\n",
      "1   FEB      318      342      391\n",
      "2   MAR      362      406      419\n",
      "3   APR      348      396      461\n",
      "4   MAY      363      420      472\n"
     ]
    }
   ],
   "source": [
    "import pandas as pd\n",
    "\n",
    "#Carregando base de dados da internet\n",
    "\n",
    "df = pd.read_csv('https://people.sc.fsu.edu/~jburkardt/data/csv/airtravel.csv')\n",
    "#df\n",
    "\n",
    "print(df.head())"
   ]
  }
 ],
 "metadata": {
  "kernelspec": {
   "display_name": "Python 3",
   "language": "python",
   "name": "python3"
  },
  "language_info": {
   "codemirror_mode": {
    "name": "ipython",
    "version": 3
   },
   "file_extension": ".py",
   "mimetype": "text/x-python",
   "name": "python",
   "nbconvert_exporter": "python",
   "pygments_lexer": "ipython3",
   "version": "3.10.13"
  }
 },
 "nbformat": 4,
 "nbformat_minor": 2
}
