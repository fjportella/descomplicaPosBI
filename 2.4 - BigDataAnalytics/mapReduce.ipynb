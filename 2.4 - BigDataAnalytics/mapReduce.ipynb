{
 "cells": [
  {
   "cell_type": "markdown",
   "metadata": {},
   "source": [
    "Contagem de Palavras"
   ]
  },
  {
   "cell_type": "code",
   "execution_count": 4,
   "metadata": {},
   "outputs": [
    {
     "name": "stdout",
     "output_type": "stream",
     "text": [
      "Counter({'de': 2, 'Este': 1, 'é': 1, 'um': 1, 'exemplo': 1, 'contagem': 1, 'palavras': 1})\n"
     ]
    }
   ],
   "source": [
    "#Contagem de Palavras\n",
    "from collections import Counter\n",
    "\n",
    "sentence = \"Este é um exemplo de contagem de palavras\"\n",
    "words = sentence.split()\n",
    "\n",
    "word_count = Counter(words)\n",
    "\n",
    "print(word_count)\n"
   ]
  },
  {
   "cell_type": "markdown",
   "metadata": {},
   "source": [
    "Multiplicação de Matrizes"
   ]
  },
  {
   "cell_type": "code",
   "execution_count": 6,
   "metadata": {},
   "outputs": [
    {
     "data": {
      "text/plain": [
       "array([[19, 22],\n",
       "       [43, 50]])"
      ]
     },
     "execution_count": 6,
     "metadata": {},
     "output_type": "execute_result"
    }
   ],
   "source": [
    "#Multiplicação de Matrizes (função dot)\n",
    "# Para multiplicar é necessário que o número de colunas de uma matriz seja igual ao número de linhas da outra\n",
    "\n",
    "import numpy as np\n",
    "\n",
    "matrix_a = np.array([[1,2], [3,4]])\n",
    "matrix_b = np.array([[5,6], [7,8]])\n",
    "\n",
    "result = np.dot(matrix_a, matrix_b)\n",
    "result"
   ]
  },
  {
   "cell_type": "code",
   "execution_count": 8,
   "metadata": {},
   "outputs": [
    {
     "data": {
      "text/plain": [
       "32"
      ]
     },
     "execution_count": 8,
     "metadata": {},
     "output_type": "execute_result"
    }
   ],
   "source": [
    "#Multiplicação de Matrizes de 1 dimensão (função dot)\n",
    "# Para multiplicar é necessário que o número de colunas de uma matriz seja igual ao número de linhas da outra\n",
    "\n",
    "import numpy as np\n",
    "\n",
    "matrix_a = np.array([1,2,3])\n",
    "matrix_b = np.array([4,5,6])\n",
    "\n",
    "result = np.dot(matrix_a, matrix_b)\n",
    "result"
   ]
  },
  {
   "cell_type": "code",
   "execution_count": 9,
   "metadata": {},
   "outputs": [
    {
     "data": {
      "text/plain": [
       "array([[19, 22],\n",
       "       [43, 50]])"
      ]
     },
     "execution_count": 9,
     "metadata": {},
     "output_type": "execute_result"
    }
   ],
   "source": [
    "#Multiplicação de Matrizes de 2 dimensões (função dot)\n",
    "# Para multiplicar é necessário que o número de colunas de uma matriz seja igual ao número de linhas da outra\n",
    "\n",
    "import numpy as np\n",
    "\n",
    "matrix_a = np.array([[1,2], [3,4]])\n",
    "matrix_b = np.array([[5,6], [7,8]])\n",
    "\n",
    "result = np.dot(matrix_a, matrix_b)\n",
    "result"
   ]
  },
  {
   "cell_type": "code",
   "execution_count": 10,
   "metadata": {},
   "outputs": [
    {
     "data": {
      "text/plain": [
       "array([[ 5, 10],\n",
       "       [15, 20]])"
      ]
     },
     "execution_count": 10,
     "metadata": {},
     "output_type": "execute_result"
    }
   ],
   "source": [
    "#Multiplicação de matrizes por um escalar\n",
    "\n",
    "import numpy as np\n",
    "\n",
    "matrix_a = np.array([[1,2], [3,4]])\n",
    "scalar = 5\n",
    "\n",
    "result = np.dot(matrix_a, scalar)\n",
    "result\n"
   ]
  },
  {
   "cell_type": "code",
   "execution_count": 11,
   "metadata": {},
   "outputs": [
    {
     "data": {
      "text/plain": [
       "array([[ 58,  64],\n",
       "       [139, 154]])"
      ]
     },
     "execution_count": 11,
     "metadata": {},
     "output_type": "execute_result"
    }
   ],
   "source": [
    "#Multiplicação de matrizes de diferentes dimensões\n",
    "\n",
    "import numpy as np\n",
    "\n",
    "matrix_a = np.array([[1, 2, 3], [4, 5, 6]])\n",
    "matrix_b = np.array([[7, 8], [9, 10], [11, 12]])\n",
    "\n",
    "result = np.dot(matrix_a, matrix_b)\n",
    "result\n"
   ]
  }
 ],
 "metadata": {
  "kernelspec": {
   "display_name": "Python 3",
   "language": "python",
   "name": "python3"
  },
  "language_info": {
   "codemirror_mode": {
    "name": "ipython",
    "version": 3
   },
   "file_extension": ".py",
   "mimetype": "text/x-python",
   "name": "python",
   "nbconvert_exporter": "python",
   "pygments_lexer": "ipython3",
   "version": "3.10.13"
  }
 },
 "nbformat": 4,
 "nbformat_minor": 2
}
