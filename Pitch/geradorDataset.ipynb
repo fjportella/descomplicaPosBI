{
 "cells": [
  {
   "cell_type": "code",
   "execution_count": 2,
   "metadata": {},
   "outputs": [
    {
     "name": "stdout",
     "output_type": "stream",
     "text": [
      "Collecting faker\n",
      "  Downloading Faker-23.2.0-py3-none-any.whl.metadata (15 kB)\n",
      "Requirement already satisfied: python-dateutil>=2.4 in /home/codespace/.local/lib/python3.10/site-packages (from faker) (2.8.2)\n",
      "Requirement already satisfied: six>=1.5 in /home/codespace/.local/lib/python3.10/site-packages (from python-dateutil>=2.4->faker) (1.16.0)\n",
      "Downloading Faker-23.2.0-py3-none-any.whl (1.7 MB)\n",
      "\u001b[2K   \u001b[90m━━━━━━━━━━━━━━━━━━━━━━━━━━━━━━━━━━━━━━━━\u001b[0m \u001b[32m1.7/1.7 MB\u001b[0m \u001b[31m20.3 MB/s\u001b[0m eta \u001b[36m0:00:00\u001b[0m00:01\u001b[0m\n",
      "\u001b[?25hInstalling collected packages: faker\n",
      "Successfully installed faker-23.2.0\n",
      "\n",
      "\u001b[1m[\u001b[0m\u001b[34;49mnotice\u001b[0m\u001b[1;39;49m]\u001b[0m\u001b[39;49m A new release of pip is available: \u001b[0m\u001b[31;49m23.3.1\u001b[0m\u001b[39;49m -> \u001b[0m\u001b[32;49m24.0\u001b[0m\n",
      "\u001b[1m[\u001b[0m\u001b[34;49mnotice\u001b[0m\u001b[1;39;49m]\u001b[0m\u001b[39;49m To update, run: \u001b[0m\u001b[32;49mpip install --upgrade pip\u001b[0m\n",
      "Note: you may need to restart the kernel to use updated packages.\n"
     ]
    }
   ],
   "source": [
    "pip install faker"
   ]
  },
  {
   "cell_type": "code",
   "execution_count": 10,
   "metadata": {},
   "outputs": [],
   "source": [
    "import pandas as pd\n",
    "from faker import Faker\n",
    "import random\n",
    "from datetime import datetime"
   ]
  },
  {
   "cell_type": "code",
   "execution_count": 11,
   "metadata": {},
   "outputs": [
    {
     "name": "stdout",
     "output_type": "stream",
     "text": [
      "  Data da Venda  Código Produto Nome Produto Categoria do Produto  \\\n",
      "0    2024-01-26              60      Cadeira               Móveis   \n",
      "1    2023-03-19              92      HD Sata        Armazenamento   \n",
      "2    2023-04-25              11      Teclado          Periféricos   \n",
      "3    2024-01-17              23    Cabo HDMI          Periféricos   \n",
      "4    2023-09-15              90       HD SSD        Armazenamento   \n",
      "\n",
      "   Quantidade Vendido  Valor Unitário  Valor Total da Venda  Cidade da Loja  \\\n",
      "0                   1           300.0                 300.0           Porto   \n",
      "1                   6           468.0                2808.0       São Paulo   \n",
      "2                   8           159.0                1272.0        Valencia   \n",
      "3                   4            40.0                 160.0  Rio de Janeiro   \n",
      "4                   4           696.0                2784.0        Valencia   \n",
      "\n",
      "  País da Loja Vendedor  \n",
      "0     Portugal   Miguel  \n",
      "1       Brasil   Carlos  \n",
      "2      Espanha   Carlos  \n",
      "3       Brasil      Ana  \n",
      "4      Espanha    María  \n"
     ]
    }
   ],
   "source": [
    "fake = Faker()\n",
    "\n",
    "# Lista de produtos específicos com preço base\n",
    "produtos = [\n",
    "    (10, \"Mouse\", \"Periféricos\", 100),\n",
    "    (11, \"Teclado\", \"Periféricos\", 150),\n",
    "    (20, \"Monitor\", \"Monitores\", 800),\n",
    "    (22, \"Cabo Energia\", \"Periféricos\", 30),\n",
    "    (23, \"Cabo HDMI\", \"Periféricos\", 40),\n",
    "    (24, \"Cabo Rede\", \"Periféricos\", 25),\n",
    "    (30, \"Notebook\", \"Computadores\", 3500),\n",
    "    (35, \"Computador\", \"Computadores\", 2300),\n",
    "    (40, \"Nobreak\", \"Periféricos\", 500),\n",
    "    (50, \"Mesa\", \"Móveis\", 450),\n",
    "    (60, \"Cadeira\", \"Móveis\", 300),\n",
    "    (70, \"Licença Windows\", \"Software\", 900),\n",
    "    (80, \"Licença Office 365\", \"Software\", 350),\n",
    "    (90, \"HD SSD\", \"Armazenamento\", 600),\n",
    "    (92, \"HD Sata\", \"Armazenamento\", 450),\n",
    "    (95, \"Memória\", \"Armazenamento\", 320),\n",
    "    (96, \"Placa de Vídeo\", \"Periféricos\", 2200)\n",
    "]\n",
    "\n",
    "# Função para calcular o preço variável por mês\n",
    "def calcular_preco_variavel(preco_base, data_venda):\n",
    "    mes_venda = data_venda.month\n",
    "    variacao_percentual = (mes_venda - 1) * 0.02  # Ajuste para 2% de variação por mês\n",
    "    preco_variavel = round(preco_base * (1 + variacao_percentual), 2)\n",
    "    return preco_variavel\n",
    "\n",
    "# Estruturas para armazenar cidades e vendedores fixos por país\n",
    "estrutura_paises = {\n",
    "    'Brasil': {\n",
    "        'cidades': ['São Paulo', 'Rio de Janeiro', 'Belo Horizonte'],\n",
    "        'vendedores': ['João', 'Ana', 'Carlos']\n",
    "    },\n",
    "    'Estados Unidos': {\n",
    "        'cidades': ['New York', 'Los Angeles', 'Chicago'],\n",
    "        'vendedores': ['John', 'Alice', 'Bob']\n",
    "    },\n",
    "    'Portugal': {\n",
    "        'cidades': ['Lisboa', 'Porto', 'Coimbra'],\n",
    "        'vendedores': ['Miguel', 'Sofia', 'André']\n",
    "    },\n",
    "    'Espanha': {\n",
    "        'cidades': ['Madrid', 'Barcelona', 'Valencia'],\n",
    "        'vendedores': ['Carlos', 'María', 'David']\n",
    "    }\n",
    "}\n",
    "\n",
    "# Número de registros desejados\n",
    "num_linhas = 2000\n",
    "num_duplicatas = 50\n",
    "\n",
    "dados = []\n",
    "for i in range(num_linhas):\n",
    "    produto = random.choice(produtos)\n",
    "    data_venda = fake.date_between(start_date='-1y', end_date='today')\n",
    "    codigo_produto, nome_produto, categoria_produto, preco_base = produto\n",
    "    quantidade_vendido = random.randint(1, 10)\n",
    "    \n",
    "    # Calculando o preço unitário variável com base no mês da venda\n",
    "    valor_unitario = calcular_preco_variavel(preco_base, data_venda)\n",
    "    \n",
    "    valor_total_venda = round(quantidade_vendido * valor_unitario, 2)\n",
    "    pais_loja = random.choice(list(estrutura_paises.keys()))\n",
    "    cidade_loja = random.choice(estrutura_paises[pais_loja]['cidades'])\n",
    "    vendedor = random.choice(estrutura_paises[pais_loja]['vendedores'])\n",
    "    \n",
    "    linha = [data_venda, codigo_produto, nome_produto, categoria_produto, quantidade_vendido, valor_unitario, valor_total_venda, cidade_loja, pais_loja, vendedor]\n",
    "    dados.append(linha)\n",
    "\n",
    "# Adicionando algumas linhas duplicadas\n",
    "for _ in range(num_duplicatas):\n",
    "    dados.append(random.choice(dados))\n",
    "\n",
    "# Criando o DataFrame\n",
    "df = pd.DataFrame(dados, columns=['Data da Venda', 'Código Produto', 'Nome Produto', 'Categoria do Produto', 'Quantidade Vendido', 'Valor Unitário', 'Valor Total da Venda', 'Cidade da Loja', 'País da Loja', 'Vendedor'])\n",
    "\n",
    "# Salvando o DataFrame em um arquivo CSV\n",
    "df.to_csv('dataset_variacao_preco_loja_informatica.csv', index=False)\n",
    "\n",
    "# Exibindo as primeiras linhas do DataFrame\n",
    "print(df.head())\n"
   ]
  }
 ],
 "metadata": {
  "kernelspec": {
   "display_name": "Python 3",
   "language": "python",
   "name": "python3"
  },
  "language_info": {
   "codemirror_mode": {
    "name": "ipython",
    "version": 3
   },
   "file_extension": ".py",
   "mimetype": "text/x-python",
   "name": "python",
   "nbconvert_exporter": "python",
   "pygments_lexer": "ipython3",
   "version": "3.10.13"
  }
 },
 "nbformat": 4,
 "nbformat_minor": 2
}
