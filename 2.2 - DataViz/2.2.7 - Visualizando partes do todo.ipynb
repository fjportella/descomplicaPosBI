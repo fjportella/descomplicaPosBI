{
 "cells": [
  {
   "cell_type": "code",
   "execution_count": 1,
   "metadata": {},
   "outputs": [],
   "source": [
    "# Importando as bibliotecas\n",
    "\n",
    "import matplotlib.pyplot as plt"
   ]
  },
  {
   "cell_type": "code",
   "execution_count": 2,
   "metadata": {},
   "outputs": [],
   "source": [
    "# Dados de vendas mensais por estado (Região Sudeste, em milhões de R$)\n",
    "\n",
    "vendas = [44, 45, 31, 19]\n",
    "\n",
    "estado = ['RJ', 'SP', 'MG', 'ES']"
   ]
  },
  {
   "cell_type": "code",
   "execution_count": 9,
   "metadata": {},
   "outputs": [
    {
     "data": {
      "text/plain": [
       "([<matplotlib.patches.Wedge at 0x7f1e4d161570>,\n",
       "  <matplotlib.patches.Wedge at 0x7f1e4d161630>,\n",
       "  <matplotlib.patches.Wedge at 0x7f1e4cff9480>,\n",
       "  <matplotlib.patches.Wedge at 0x7f1e4cff9b10>],\n",
       " [Text(0.5994503909548335, 0.9223118934417454, 'RJ'),\n",
       "  Text(-1.0899012122923764, 0.14871229755339163, 'SP'),\n",
       "  Text(0.01243061144595056, -1.0999297613480052, 'MG'),\n",
       "  Text(1.0001252636182683, -0.4579841231663928, 'ES')],\n",
       " [Text(0.32697294052081827, 0.5030792146045883, '32%'),\n",
       "  Text(-0.5944915703412961, 0.08111579866548634, '32%'),\n",
       "  Text(0.006780333515973032, -0.5999616880080029, '22%'),\n",
       "  Text(0.5455228710645099, -0.2498095217271233, '14%')])"
      ]
     },
     "execution_count": 9,
     "metadata": {},
     "output_type": "execute_result"
    },
    {
     "data": {
      "image/png": "[encoded data removed]",
      "text/plain": [
       "<Figure size 640x480 with 1 Axes>"
      ]
     },
     "metadata": {},
     "output_type": "display_data"
    }
   ],
   "source": [
    "# Gerando a visualização com o Matplotlib\n",
    "\n",
    "plt.pie(vendas, labels=estado, autopct='%.0f%%')"
   ]
  },
  {
   "cell_type": "code",
   "execution_count": 10,
   "metadata": {},
   "outputs": [],
   "source": [
    "# Importando as bibliotecas\n",
    "\n",
    "import plotly.express as px\n",
    "\n",
    "import pandas as pd\n",
    "\n",
    "import plotly.io as pio"
   ]
  },
  {
   "cell_type": "code",
   "execution_count": 11,
   "metadata": {},
   "outputs": [],
   "source": [
    "# Estabelecendo que o Plotly apresentará as visualizações no navegador\n",
    "\n",
    "pio.renderers.default='browser'"
   ]
  },
  {
   "cell_type": "code",
   "execution_count": 13,
   "metadata": {},
   "outputs": [],
   "source": [
    "# Gerando um dataframe com dados  de vendas por fornecedores e regiões\n",
    "\n",
    "dados = {'fornecedores': ['A', 'B', 'C', 'D', 'E', 'F', 'G', 'H'],\n",
    "\n",
    "         'areas': ['Tecnologia', 'Tecnologia', 'Finanças', 'Finanças',\n",
    "\n",
    "                   'Tecnologia', 'Tecnologia', 'Finanças', 'Finanças'],\n",
    "\n",
    "         'regioes': ['Sudeste', 'Sudeste', 'Sudeste', 'Sudeste',\n",
    "\n",
    "                     'Sul', 'Sul', 'Sul', 'Sul'],\n",
    "\n",
    "         'vendas': [1, 3, 2, 4, 2, 2, 1, 4]\n",
    "\n",
    "        }\n",
    "\n",
    "df = pd.DataFrame(dados)\n",
    "\n",
    "\n",
    "# Criando uma coluna para termos um nó raiz para incluir todos os dados\n",
    "\n",
    "df['todos'] = 'Todos'\n",
    "\n",
    " \n",
    "\n",
    "# Gerando a visualização\n",
    "\n",
    "fig = px.treemap(df, path=['todos', 'regioes', 'areas', 'fornecedores'], values='vendas')\n",
    "\n",
    "# Estabelecendo a cor da categoria raiz\n",
    "\n",
    "fig.update_traces(root_color='lightgrey')\n",
    "\n",
    "# Definindo título e posicionamento\n",
    "\n",
    "fig.update_layout(title_text='Mapa de fornecedores', title_x=0.5)"
   ]
  },
  {
   "cell_type": "code",
   "execution_count": 14,
   "metadata": {},
   "outputs": [],
   "source": [
    "# Gráfico Sunburst\n",
    "\n",
    " \n",
    "\n",
    "# Importando as bibliotecas\n",
    "\n",
    "import plotly.express as px\n",
    "\n",
    "import pandas as pd\n",
    "\n",
    "import plotly.io as pio\n",
    "\n",
    " \n",
    "\n",
    "# Estabelecendo que o Plotly apresentará as visualizações no navegador\n",
    "\n",
    "pio.renderers.default='browser'\n",
    "\n",
    " \n",
    "\n",
    "# Gerando um dataframe com dados de vendas por fornecedores e regiões\n",
    "\n",
    "dados = {'fornecedores': ['A', 'B', 'C', 'D', 'E', 'F', 'G', 'H'],\n",
    "\n",
    "         'areas': ['Tecnologia', 'Tecnologia', 'Finanças', 'Finanças',\n",
    "\n",
    "                   'Tecnologia', 'Tecnologia', 'Finanças', 'Finanças'],\n",
    "\n",
    "         'regioes': ['Sudeste', 'Sudeste', 'Sudeste', 'Sudeste',\n",
    "\n",
    "                     'Sul', 'Sul', 'Sul', 'Sul'],\n",
    "\n",
    "         'vendas': [1, 3, 2, 4, 2, 2, 1, 4]\n",
    "\n",
    "        }\n",
    "\n",
    "df = pd.DataFrame(dados)\n",
    "\n",
    " \n",
    "\n",
    "fig = px.sunburst(df, path=['regioes', 'areas', 'fornecedores'], values='vendas')\n",
    "\n",
    "# Definindo título e posicionamento\n",
    "\n",
    "fig.update_layout(title_text='Mapa de fornecedores', title_x=0.5)"
   ]
  }
 ],
 "metadata": {
  "kernelspec": {
   "display_name": "Python 3",
   "language": "python",
   "name": "python3"
  },
  "language_info": {
   "codemirror_mode": {
    "name": "ipython",
    "version": 3
   },
   "file_extension": ".py",
   "mimetype": "text/x-python",
   "name": "python",
   "nbconvert_exporter": "python",
   "pygments_lexer": "ipython3",
   "version": "3.10.13"
  }
 },
 "nbformat": 4,
 "nbformat_minor": 2
}
